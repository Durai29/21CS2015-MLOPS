{
 "cells": [
  {
   "cell_type": "code",
   "execution_count": 24,
   "metadata": {},
   "outputs": [],
   "source": [
    "#FACTORIAL FUNCTION\n",
    "\n",
    "def factorial(n):\n",
    "    if n==1:\n",
    "        return 1\n",
    "    elif n < 0:\n",
    "        return None\n",
    "    else:\n",
    "        return n * factorial(n-1)"
   ]
  },
  {
   "cell_type": "code",
   "execution_count": 25,
   "metadata": {},
   "outputs": [
    {
     "name": "stdout",
     "output_type": "stream",
     "text": [
      "Test case ID: 1\n",
      "Test case Input Data: 5\n",
      "Test case Expected Output: 120\n",
      "Tested Function Output: 120\n",
      "\n",
      "TESTCASE PASSED SUCCESSFULLY\n",
      "\n",
      "Test case ID: 2\n",
      "Test case Input Data: 1\n",
      "Test case Expected Output: 1\n",
      "Tested Function Output: 1\n",
      "\n",
      "TESTCASE PASSED SUCCESSFULLY\n",
      "\n",
      "Test case ID: 3\n",
      "Test case Input Data: -1\n",
      "Test case Expected Output: None\n",
      "Tested Function Output: None\n",
      "\n",
      "TESTCASE PASSED SUCCESSFULLY\n",
      "\n"
     ]
    }
   ],
   "source": [
    "#TESTCASES\n",
    "class testcases:\n",
    "    def __init__(self, id, input_data, expected_output):\n",
    "        self.id = id\n",
    "        self.ip = input_data\n",
    "        self.op = expected_output\n",
    "        # self.factorial = factorial\n",
    "    def test(self, factorial):\n",
    "        try:\n",
    "            func_output = factorial(self.ip)\n",
    "            print(f\"Test case ID: {self.id}\")\n",
    "            print(f\"Test case Input Data: {self.ip}\")\n",
    "            print(f\"Test case Expected Output: {self.op}\")\n",
    "            print(f\"Tested Function Output: {func_output}\\n\")\n",
    "            if func_output == self.op:\n",
    "                print(\"TESTCASE PASSED SUCCESSFULLY\\n\")\n",
    "            else:\n",
    "                print(f\"TESTCASE FAILED. Expected output: {op}, but got: {func_output}\\n\")\n",
    "        except:\n",
    "            print(\"ERROR\")\n",
    "\n",
    "test_cases = [testcases(1, 5, 120), testcases(2, 1, 1), testcases(3, -1, None)]\n",
    "\n",
    "for i in test_cases:\n",
    "    i.test(factorial)"
   ]
  },
  {
   "cell_type": "code",
   "execution_count": 26,
   "metadata": {},
   "outputs": [
    {
     "data": {
      "text/plain": [
       "120"
      ]
     },
     "execution_count": 26,
     "metadata": {},
     "output_type": "execute_result"
    }
   ],
   "source": [
    "def factorial_correct(n):\n",
    "    if n==1:\n",
    "        return 1\n",
    "    elif n < 0:\n",
    "        pass\n",
    "    else:\n",
    "        return n * factorial(n-1)\n",
    "factorial_correct(5)"
   ]
  },
  {
   "cell_type": "code",
   "execution_count": 29,
   "metadata": {},
   "outputs": [
    {
     "name": "stdout",
     "output_type": "stream",
     "text": [
      "Test case ID: 1\n",
      "Test case Input Data: 5\n",
      "Test case Expected Output: 120\n",
      "Tested Function Output: 120\n",
      "\n",
      "TESTCASE PASSED SUCCESSFULLY\n",
      "\n",
      "Test case ID: 2\n",
      "Test case Input Data: 1\n",
      "Test case Expected Output: 1\n",
      "Tested Function Output: 1\n",
      "\n",
      "TESTCASE PASSED SUCCESSFULLY\n",
      "\n",
      "Test case ID: 3\n",
      "Test case Input Data: -1\n",
      "Test case Expected Output: Negative numbers\n",
      "Tested Function Output: None\n",
      "\n",
      "TESTCASE FAILED. Expected output: Negative numbers, but got: None\n",
      "\n",
      "---------------------\n",
      "Test case ID: 1\n",
      "Test case Input Data: 5\n",
      "Test case Expected Output: 120\n",
      "Tested Function Output: 120\n",
      "\n",
      "TESTCASE PASSED SUCCESSFULLY\n",
      "\n",
      "Test case ID: 2\n",
      "Test case Input Data: 1\n",
      "Test case Expected Output: 1\n",
      "Tested Function Output: 2\n",
      "\n",
      "TESTCASE FAILED. Expected output: 1, but got: 2\n",
      "\n",
      "Test case ID: 3\n",
      "Test case Input Data: -1\n",
      "Test case Expected Output: Negative numbers\n",
      "Tested Function Output: 0\n",
      "\n",
      "TESTCASE FAILED. Expected output: Negative numbers, but got: 0\n",
      "\n"
     ]
    }
   ],
   "source": [
    "#FACTORIAL FUNCTION\n",
    "\n",
    "def factorial_correct(n):\n",
    "    if n==1:\n",
    "        return 1\n",
    "    elif n < 0:\n",
    "        pass\n",
    "    else:\n",
    "        return n * factorial(n-1)\n",
    "\n",
    "def factorial_wrong(n):\n",
    "    if n==1:\n",
    "        return 2\n",
    "    elif n < 0:\n",
    "        return 0\n",
    "    else:\n",
    "        return n * factorial(n-1)\n",
    "\n",
    "#TESTCASES\n",
    "class testcases:\n",
    "    def __init__(self, id, input_data, expected_output):\n",
    "        self.id = id\n",
    "        self.ip = input_data\n",
    "        self.op = expected_output\n",
    "        # self.factorial = factorial\n",
    "    def test(self, factorial):\n",
    "        try:\n",
    "            func_output = factorial(self.ip)\n",
    "            if func_output == self.op:\n",
    "                status=\"P\"\n",
    "            else:\n",
    "                status=\"F\"\n",
    "        except Exception as e:\n",
    "            status = \"E\"\n",
    "\n",
    "        print(f\"Test case ID: {self.id}\")\n",
    "        print(f\"Test case Input Data: {self.ip}\")\n",
    "        print(f\"Test case Expected Output: {self.op}\")\n",
    "        print(f\"Tested Function Output: {func_output}\\n\")\n",
    "        if status==\"F\":\n",
    "            print(f\"TESTCASE FAILED. Expected output: {self.op}, but got: {func_output}\\n\")\n",
    "        elif status==\"P\":\n",
    "            print(\"TESTCASE PASSED SUCCESSFULLY\\n\")\n",
    "        elif status==\"E\":\n",
    "            print(\"ERRORED CODE\\n\")\n",
    "\n",
    "test_cases = [testcases(1, 5, 120), testcases(2, 1, 1), testcases(3, -1, \"Negative numbers\")]\n",
    "\n",
    "for i in test_cases:\n",
    "    i.test(factorial_correct)\n",
    "print(\"---------------------\")\n",
    "for i in test_cases:\n",
    "    i.test(factorial_wrong)"
   ]
  }
 ],
 "metadata": {
  "kernelspec": {
   "display_name": "base",
   "language": "python",
   "name": "python3"
  },
  "language_info": {
   "codemirror_mode": {
    "name": "ipython",
    "version": 3
   },
   "file_extension": ".py",
   "mimetype": "text/x-python",
   "name": "python",
   "nbconvert_exporter": "python",
   "pygments_lexer": "ipython3",
   "version": "3.12.4"
  }
 },
 "nbformat": 4,
 "nbformat_minor": 2
}
