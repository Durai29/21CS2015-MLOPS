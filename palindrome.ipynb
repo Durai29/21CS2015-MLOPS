{
 "cells": [
  {
   "cell_type": "code",
   "execution_count": null,
   "metadata": {},
   "outputs": [],
   "source": []
  },
  {
   "cell_type": "code",
   "execution_count": 10,
   "metadata": {},
   "outputs": [
    {
     "name": "stdout",
     "output_type": "stream",
     "text": [
      "Test case ID: 1\n",
      "Test case Input Data: hello\n",
      "Test case Expected Output: False\n",
      "Tested Function Output: False\n",
      "\n",
      "TESTCASE PASSED SUCCESSFULLY\n",
      "\n",
      "Test case ID: 2\n",
      "Test case Input Data: rotor\n",
      "Test case Expected Output: True\n",
      "Tested Function Output: True\n",
      "\n",
      "TESTCASE PASSED SUCCESSFULLY\n",
      "\n",
      "Test case ID: 3\n",
      "Test case Input Data: -1\n",
      "Test case Expected Output: Error\n",
      "\n",
      "ERRORED CODE\n",
      "\n"
     ]
    }
   ],
   "source": [
    "#PALINDROME FUNCTION\n",
    "\n",
    "def palindrome(st):\n",
    "    return st==st[::-1]\n",
    "\n",
    "#TESTCASES\n",
    "\n",
    "class check_palindrome:\n",
    "    def __init__(self, id, input_data, expected_output):\n",
    "        self.id = id\n",
    "        self.ip = input_data\n",
    "        self.op = expected_output\n",
    "    def test(self, palindrome):\n",
    "        try:\n",
    "            func_output = palindrome(self.ip)\n",
    "            if func_output == self.op:\n",
    "                status=\"P\"\n",
    "            else:\n",
    "                status=\"F\"\n",
    "        except Exception as e:\n",
    "            status = \"E\"\n",
    "        print(f\"Test case ID: {self.id}\")\n",
    "        print(f\"Test case Input Data: {self.ip}\")\n",
    "        print(f\"Test case Expected Output: {self.op}\")\n",
    "        \n",
    "        if status==\"F\":\n",
    "            print(f\"Tested Function Output: {func_output}\\n\")\n",
    "            print(f\"TESTCASE FAILED. Expected output: {self.op}, but got: {func_output}\\n\")\n",
    "        elif status==\"P\":\n",
    "            print(f\"Tested Function Output: {func_output}\\n\")\n",
    "            print(\"TESTCASE PASSED SUCCESSFULLY\\n\")\n",
    "        elif status==\"E\":\n",
    "            print(\"\\nERRORED CODE\\n\")\n",
    "    \n",
    "test_cases = [check_palindrome(1, \"hello\", False), check_palindrome(2, \"rotor\", True), check_palindrome(3, -1, \"Error\")]\n",
    "\n",
    "for i in test_cases:\n",
    "    i.test(palindrome)"
   ]
  },
  {
   "cell_type": "code",
   "execution_count": null,
   "metadata": {},
   "outputs": [],
   "source": []
  }
 ],
 "metadata": {
  "kernelspec": {
   "display_name": "base",
   "language": "python",
   "name": "python3"
  },
  "language_info": {
   "codemirror_mode": {
    "name": "ipython",
    "version": 3
   },
   "file_extension": ".py",
   "mimetype": "text/x-python",
   "name": "python",
   "nbconvert_exporter": "python",
   "pygments_lexer": "ipython3",
   "version": "3.12.4"
  }
 },
 "nbformat": 4,
 "nbformat_minor": 2
}
